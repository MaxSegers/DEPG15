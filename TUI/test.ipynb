{
 "cells": [
  {
   "cell_type": "code",
   "execution_count": 7,
   "metadata": {},
   "outputs": [
    {
     "data": {
      "text/html": [
       "<div>\n",
       "<style scoped>\n",
       "    .dataframe tbody tr th:only-of-type {\n",
       "        vertical-align: middle;\n",
       "    }\n",
       "\n",
       "    .dataframe tbody tr th {\n",
       "        vertical-align: top;\n",
       "    }\n",
       "\n",
       "    .dataframe thead th {\n",
       "        text-align: right;\n",
       "    }\n",
       "</style>\n",
       "<table border=\"1\" class=\"dataframe\">\n",
       "  <thead>\n",
       "    <tr style=\"text-align: right;\">\n",
       "      <th></th>\n",
       "      <th>search_date</th>\n",
       "      <th>departure_date</th>\n",
       "      <th>arrival_date</th>\n",
       "      <th>departure_time</th>\n",
       "      <th>arrival_time</th>\n",
       "      <th>departure_airport</th>\n",
       "      <th>arrival_airport</th>\n",
       "      <th>flight_duration</th>\n",
       "      <th>flight_type</th>\n",
       "      <th>flight_number</th>\n",
       "      <th>available_seats</th>\n",
       "      <th>price</th>\n",
       "      <th>flight_key</th>\n",
       "    </tr>\n",
       "  </thead>\n",
       "  <tbody>\n",
       "    <tr>\n",
       "      <th>0</th>\n",
       "      <td>2023-03-09</td>\n",
       "      <td>2023-04-01</td>\n",
       "      <td>2023-04-01</td>\n",
       "      <td>06:30</td>\n",
       "      <td>09:10</td>\n",
       "      <td>ANR</td>\n",
       "      <td>ALC</td>\n",
       "      <td>2u 40m</td>\n",
       "      <td>Direct</td>\n",
       "      <td>TB 1101</td>\n",
       "      <td>10</td>\n",
       "      <td>219.99</td>\n",
       "      <td>TB~1101~ ~ANR~2023-04-01 06:30~ALC~2023-04-01 ...</td>\n",
       "    </tr>\n",
       "    <tr>\n",
       "      <th>1</th>\n",
       "      <td>2023-03-09</td>\n",
       "      <td>2023-04-02</td>\n",
       "      <td>2023-04-02</td>\n",
       "      <td>08:30</td>\n",
       "      <td>11:15</td>\n",
       "      <td>ANR</td>\n",
       "      <td>ALC</td>\n",
       "      <td>2u 45m</td>\n",
       "      <td>Direct</td>\n",
       "      <td>TB 1101</td>\n",
       "      <td>10</td>\n",
       "      <td>199.99</td>\n",
       "      <td>TB~1101~ ~ANR~2023-04-02 08:30~ALC~2023-04-02 ...</td>\n",
       "    </tr>\n",
       "    <tr>\n",
       "      <th>2</th>\n",
       "      <td>2023-03-09</td>\n",
       "      <td>2023-04-02</td>\n",
       "      <td>2023-04-02</td>\n",
       "      <td>14:05</td>\n",
       "      <td>16:45</td>\n",
       "      <td>ANR</td>\n",
       "      <td>ALC</td>\n",
       "      <td>2u 40m</td>\n",
       "      <td>Direct</td>\n",
       "      <td>TB 1103</td>\n",
       "      <td>10</td>\n",
       "      <td>159.99</td>\n",
       "      <td>TB~1103~ ~ANR~2023-04-02 14:05~ALC~2023-04-02 ...</td>\n",
       "    </tr>\n",
       "    <tr>\n",
       "      <th>3</th>\n",
       "      <td>2023-03-09</td>\n",
       "      <td>2023-04-02</td>\n",
       "      <td>2023-04-02</td>\n",
       "      <td>15:20</td>\n",
       "      <td>18:00</td>\n",
       "      <td>ANR</td>\n",
       "      <td>ALC</td>\n",
       "      <td>2u 40m</td>\n",
       "      <td>Direct</td>\n",
       "      <td>TB 1105</td>\n",
       "      <td>10</td>\n",
       "      <td>159.99</td>\n",
       "      <td>TB~1105~ ~ANR~2023-04-02 15:20~ALC~2023-04-02 ...</td>\n",
       "    </tr>\n",
       "    <tr>\n",
       "      <th>4</th>\n",
       "      <td>2023-03-09</td>\n",
       "      <td>2023-04-03</td>\n",
       "      <td>2023-04-03</td>\n",
       "      <td>08:00</td>\n",
       "      <td>10:40</td>\n",
       "      <td>ANR</td>\n",
       "      <td>ALC</td>\n",
       "      <td>2u 40m</td>\n",
       "      <td>Direct</td>\n",
       "      <td>TB 1101</td>\n",
       "      <td>10</td>\n",
       "      <td>164.99</td>\n",
       "      <td>TB~1101~ ~ANR~2023-04-03 08:00~ALC~2023-04-03 ...</td>\n",
       "    </tr>\n",
       "  </tbody>\n",
       "</table>\n",
       "</div>"
      ],
      "text/plain": [
       "  search_date departure_date arrival_date departure_time arrival_time  \\\n",
       "0  2023-03-09     2023-04-01   2023-04-01          06:30        09:10   \n",
       "1  2023-03-09     2023-04-02   2023-04-02          08:30        11:15   \n",
       "2  2023-03-09     2023-04-02   2023-04-02          14:05        16:45   \n",
       "3  2023-03-09     2023-04-02   2023-04-02          15:20        18:00   \n",
       "4  2023-03-09     2023-04-03   2023-04-03          08:00        10:40   \n",
       "\n",
       "  departure_airport arrival_airport flight_duration flight_type flight_number  \\\n",
       "0               ANR             ALC          2u 40m      Direct       TB 1101   \n",
       "1               ANR             ALC          2u 45m      Direct       TB 1101   \n",
       "2               ANR             ALC          2u 40m      Direct       TB 1103   \n",
       "3               ANR             ALC          2u 40m      Direct       TB 1105   \n",
       "4               ANR             ALC          2u 40m      Direct       TB 1101   \n",
       "\n",
       "   available_seats   price                                         flight_key  \n",
       "0               10  219.99  TB~1101~ ~ANR~2023-04-01 06:30~ALC~2023-04-01 ...  \n",
       "1               10  199.99  TB~1101~ ~ANR~2023-04-02 08:30~ALC~2023-04-02 ...  \n",
       "2               10  159.99  TB~1103~ ~ANR~2023-04-02 14:05~ALC~2023-04-02 ...  \n",
       "3               10  159.99  TB~1105~ ~ANR~2023-04-02 15:20~ALC~2023-04-02 ...  \n",
       "4               10  164.99  TB~1101~ ~ANR~2023-04-03 08:00~ALC~2023-04-03 ...  "
      ]
     },
     "execution_count": 7,
     "metadata": {},
     "output_type": "execute_result"
    }
   ],
   "source": [
    "# Importing the necessary packages\n",
    "import numpy as np                                  # \"Scientific computing\"\n",
    "import scipy.stats as stats                         # Statistical tests\n",
    "\n",
    "import pandas as pd                                 # Data Frame\n",
    "from pandas.api.types import CategoricalDtype\n",
    "\n",
    "import matplotlib.pyplot as plt                     # Basic visualisation\n",
    "from statsmodels.graphics.mosaicplot import mosaic  # Mosaic diagram\n",
    "import seaborn as sns                               # Advanced data visualisation\n",
    "\n",
    "flights = pd.read_csv(\"csv_bestanden/TUI_ANR_ALC.csv\", delimiter=\",\")\n",
    "flights.head()\n"
   ]
  },
  {
   "cell_type": "markdown",
   "metadata": {},
   "source": [
    "### Gemiddelde prijs in juni op vluchtroute Antwerpen -> Alicante"
   ]
  },
  {
   "cell_type": "code",
   "execution_count": 8,
   "metadata": {},
   "outputs": [
    {
     "data": {
      "text/plain": [
       "177.49"
      ]
     },
     "execution_count": 8,
     "metadata": {},
     "output_type": "execute_result"
    }
   ],
   "source": [
    "flights = pd.read_csv(\"csv_bestanden/TUI_ANR_ALC.csv\", delimiter=\",\")\n",
    "flight_juni = flights.query(\"'2023-07-01' > departure_date >= '2023-06-01'\")\n",
    "flight_juni.price.mean()"
   ]
  },
  {
   "cell_type": "markdown",
   "metadata": {},
   "source": [
    "### Aantal vluchten in mei op vluchtroute Brussel -> Corfu"
   ]
  },
  {
   "cell_type": "code",
   "execution_count": 9,
   "metadata": {},
   "outputs": [
    {
     "data": {
      "text/plain": [
       "15"
      ]
     },
     "execution_count": 9,
     "metadata": {},
     "output_type": "execute_result"
    }
   ],
   "source": [
    "flights = pd.read_csv(\"csv_bestanden/TUI_BRU_CFU.csv\", delimiter=\",\")\n",
    "flight_mei = flights.query(\"'2023-06-01' > departure_date >= '2023-05-01'\" ).query(\"search_date == '2023-03-09'\")\n",
    "flight_mei.flight_key.count()"
   ]
  },
  {
   "cell_type": "markdown",
   "metadata": {},
   "source": [
    "### Gemiddelde prijs in april op vluchtroute Luik -> Rhodos"
   ]
  },
  {
   "cell_type": "code",
   "execution_count": 10,
   "metadata": {},
   "outputs": [
    {
     "data": {
      "text/plain": [
       "264.99"
      ]
     },
     "execution_count": 10,
     "metadata": {},
     "output_type": "execute_result"
    }
   ],
   "source": [
    "flights = pd.read_csv(\"csv_bestanden/TUI_LGG_RHO.csv\", delimiter=\",\")\n",
    "flight_april = flights.query(\"'2023-05-01' > departure_date >= '2023-04-01'\")\n",
    "flight_april.price.mean()"
   ]
  },
  {
   "cell_type": "markdown",
   "metadata": {},
   "source": [
    "### Vertrekuur op 18 juli voor vluchtroute Brussel -> Brindisi"
   ]
  },
  {
   "cell_type": "code",
   "execution_count": 18,
   "metadata": {},
   "outputs": [
    {
     "data": {
      "text/plain": [
       "'15:15'"
      ]
     },
     "execution_count": 18,
     "metadata": {},
     "output_type": "execute_result"
    }
   ],
   "source": [
    "flights = pd.read_csv(\"csv_bestanden/TUI_BRU_BDS.csv\", delimiter=\",\")\n",
    "flight_18jul = flights.query(\"departure_date == '2023-07-18'\")\n",
    "flight_18jul.iloc[0]['departure_time']"
   ]
  },
  {
   "cell_type": "markdown",
   "metadata": {},
   "source": [
    "### Aankomstuur op 19 juni voor vluchtroute Luik -> Alicante"
   ]
  },
  {
   "cell_type": "code",
   "execution_count": 19,
   "metadata": {},
   "outputs": [
    {
     "data": {
      "text/plain": [
       "'08:45'"
      ]
     },
     "execution_count": 19,
     "metadata": {},
     "output_type": "execute_result"
    }
   ],
   "source": [
    "flights = pd.read_csv(\"csv_bestanden/TUI_LGG_ALC.csv\", delimiter=\",\")\n",
    "flight_19jun = flights.query(\"departure_date == '2023-06-19'\")\n",
    "flight_19jun.iloc[0]['arrival_time']"
   ]
  },
  {
   "cell_type": "markdown",
   "metadata": {},
   "source": [
    "### Aantal tussenstops op 23 mei voor vluchtroute Brussel -> Corfu"
   ]
  },
  {
   "cell_type": "code",
   "execution_count": 23,
   "metadata": {},
   "outputs": [
    {
     "name": "stdout",
     "output_type": "stream",
     "text": [
      "Er is 1 tussenstop\n"
     ]
    }
   ],
   "source": [
    "flights = pd.read_csv(\"csv_bestanden/TUI_BRU_CFU.csv\", delimiter=\",\")\n",
    "flight_23mei = flights.query(\"departure_date == '2023-05-23'\")\n",
    "if flight_23mei.iloc[0]['flight_type'] == 'Stop Over':\n",
    "    print('Er is 1 tussenstop')\n",
    "else:\n",
    "    print('Er zijn geen tussenstops')"
   ]
  },
  {
   "cell_type": "markdown",
   "metadata": {},
   "source": [
    "### Aantal plaatsen beschikbaar op 30 mei voor vluchtroute Oostende -> Rhodos"
   ]
  },
  {
   "cell_type": "code",
   "execution_count": 25,
   "metadata": {},
   "outputs": [
    {
     "name": "stdout",
     "output_type": "stream",
     "text": [
      "10 of meer plaatsen beschikbaar\n"
     ]
    }
   ],
   "source": [
    "flights = pd.read_csv(\"csv_bestanden/TUI_OST_RHO.csv\", delimiter=\",\")\n",
    "flight_30mei = flights.query(\"departure_date == '2023-05-30'\")\n",
    "if flight_30mei.iloc[0]['available_seats'] == 10:\n",
    "    print(\"10 of meer plaatsen beschikbaar\")\n",
    "else:\n",
    "    print(f\"{flight_30mei.iloc[0]['available_seats']} nog beschikbare plaatsen\")"
   ]
  }
 ],
 "metadata": {
  "kernelspec": {
   "display_name": "Python 3.11.1 64-bit",
   "language": "python",
   "name": "python3"
  },
  "language_info": {
   "codemirror_mode": {
    "name": "ipython",
    "version": 3
   },
   "file_extension": ".py",
   "mimetype": "text/x-python",
   "name": "python",
   "nbconvert_exporter": "python",
   "pygments_lexer": "ipython3",
   "version": "3.11.1"
  },
  "orig_nbformat": 4,
  "vscode": {
   "interpreter": {
    "hash": "4f5e823d87b14054c1dc00802eb14baf1948661152c3a5fae825f19f31ac0e35"
   }
  }
 },
 "nbformat": 4,
 "nbformat_minor": 2
}
