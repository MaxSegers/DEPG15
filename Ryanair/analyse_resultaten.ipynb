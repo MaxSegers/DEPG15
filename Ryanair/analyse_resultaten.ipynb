{
 "cells": [
  {
   "cell_type": "code",
   "execution_count": 1,
   "metadata": {},
   "outputs": [],
   "source": [
    "# Importing the necessary packages\n",
    "import numpy as np                                  # \"Scientific computing\"\n",
    "import scipy.stats as stats                         # Statistical tests\n",
    "\n",
    "import pandas as pd                                 # Data Frame\n",
    "from pandas.api.types import CategoricalDtype\n",
    "\n",
    "import matplotlib.pyplot as plt                     # Basic visualisation\n",
    "from statsmodels.graphics.mosaicplot import mosaic  # Mosaic diagram\n",
    "import seaborn as sns                               # Advanced data visualisation"
   ]
  },
  {
   "cell_type": "code",
   "execution_count": 7,
   "metadata": {},
   "outputs": [
    {
     "data": {
      "text/html": [
       "<div>\n",
       "<style scoped>\n",
       "    .dataframe tbody tr th:only-of-type {\n",
       "        vertical-align: middle;\n",
       "    }\n",
       "\n",
       "    .dataframe tbody tr th {\n",
       "        vertical-align: top;\n",
       "    }\n",
       "\n",
       "    .dataframe thead th {\n",
       "        text-align: right;\n",
       "    }\n",
       "</style>\n",
       "<table border=\"1\" class=\"dataframe\">\n",
       "  <thead>\n",
       "    <tr style=\"text-align: right;\">\n",
       "      <th></th>\n",
       "      <th>airline company</th>\n",
       "      <th>search_date</th>\n",
       "      <th>departure_date</th>\n",
       "      <th>departure_time</th>\n",
       "      <th>arrival_date</th>\n",
       "      <th>arrival_time</th>\n",
       "      <th>departure_aircode</th>\n",
       "      <th>departure_airport</th>\n",
       "      <th>arrival_aicode</th>\n",
       "      <th>arrival_airport</th>\n",
       "      <th>flight_duration</th>\n",
       "      <th>flight_number</th>\n",
       "      <th>available_seats</th>\n",
       "      <th>price</th>\n",
       "      <th>flight_key</th>\n",
       "    </tr>\n",
       "  </thead>\n",
       "  <tbody>\n",
       "    <tr>\n",
       "      <th>0</th>\n",
       "      <td>Ryanair</td>\n",
       "      <td>2023-03-13</td>\n",
       "      <td>2023-03-14</td>\n",
       "      <td>20:10</td>\n",
       "      <td>2023-03-14</td>\n",
       "      <td>23:00</td>\n",
       "      <td>BRU</td>\n",
       "      <td>Brussels</td>\n",
       "      <td>AGP</td>\n",
       "      <td>Malaga</td>\n",
       "      <td>02:50</td>\n",
       "      <td>FR 2923</td>\n",
       "      <td>0</td>\n",
       "      <td>154.09</td>\n",
       "      <td>FR~2923~ ~~BRU~03/14/2023 20:10~AGP~03/14/2023...</td>\n",
       "    </tr>\n",
       "    <tr>\n",
       "      <th>1</th>\n",
       "      <td>Ryanair</td>\n",
       "      <td>2023-03-13</td>\n",
       "      <td>2023-03-16</td>\n",
       "      <td>19:35</td>\n",
       "      <td>2023-03-16</td>\n",
       "      <td>22:25</td>\n",
       "      <td>BRU</td>\n",
       "      <td>Brussels</td>\n",
       "      <td>AGP</td>\n",
       "      <td>Malaga</td>\n",
       "      <td>02:50</td>\n",
       "      <td>FR 2923</td>\n",
       "      <td>0</td>\n",
       "      <td>154.09</td>\n",
       "      <td>FR~2923~ ~~BRU~03/16/2023 19:35~AGP~03/16/2023...</td>\n",
       "    </tr>\n",
       "    <tr>\n",
       "      <th>2</th>\n",
       "      <td>Ryanair</td>\n",
       "      <td>2023-03-13</td>\n",
       "      <td>2023-03-17</td>\n",
       "      <td>10:20</td>\n",
       "      <td>2023-03-17</td>\n",
       "      <td>13:10</td>\n",
       "      <td>BRU</td>\n",
       "      <td>Brussels</td>\n",
       "      <td>AGP</td>\n",
       "      <td>Malaga</td>\n",
       "      <td>02:50</td>\n",
       "      <td>FR 2923</td>\n",
       "      <td>1</td>\n",
       "      <td>244.13</td>\n",
       "      <td>FR~2923~ ~~BRU~03/17/2023 10:20~AGP~03/17/2023...</td>\n",
       "    </tr>\n",
       "    <tr>\n",
       "      <th>3</th>\n",
       "      <td>Ryanair</td>\n",
       "      <td>2023-03-13</td>\n",
       "      <td>2023-03-21</td>\n",
       "      <td>20:10</td>\n",
       "      <td>2023-03-21</td>\n",
       "      <td>23:00</td>\n",
       "      <td>BRU</td>\n",
       "      <td>Brussels</td>\n",
       "      <td>AGP</td>\n",
       "      <td>Malaga</td>\n",
       "      <td>02:50</td>\n",
       "      <td>FR 2923</td>\n",
       "      <td>5</td>\n",
       "      <td>139.76</td>\n",
       "      <td>FR~2923~ ~~BRU~03/21/2023 20:10~AGP~03/21/2023...</td>\n",
       "    </tr>\n",
       "    <tr>\n",
       "      <th>4</th>\n",
       "      <td>Ryanair</td>\n",
       "      <td>2023-03-13</td>\n",
       "      <td>2023-03-23</td>\n",
       "      <td>19:35</td>\n",
       "      <td>2023-03-23</td>\n",
       "      <td>22:25</td>\n",
       "      <td>BRU</td>\n",
       "      <td>Brussels</td>\n",
       "      <td>AGP</td>\n",
       "      <td>Malaga</td>\n",
       "      <td>02:50</td>\n",
       "      <td>FR 2923</td>\n",
       "      <td>3</td>\n",
       "      <td>168.99</td>\n",
       "      <td>FR~2923~ ~~BRU~03/23/2023 19:35~AGP~03/23/2023...</td>\n",
       "    </tr>\n",
       "  </tbody>\n",
       "</table>\n",
       "</div>"
      ],
      "text/plain": [
       "  airline company search_date departure_date departure_time arrival_date  \\\n",
       "0         Ryanair  2023-03-13     2023-03-14          20:10   2023-03-14   \n",
       "1         Ryanair  2023-03-13     2023-03-16          19:35   2023-03-16   \n",
       "2         Ryanair  2023-03-13     2023-03-17          10:20   2023-03-17   \n",
       "3         Ryanair  2023-03-13     2023-03-21          20:10   2023-03-21   \n",
       "4         Ryanair  2023-03-13     2023-03-23          19:35   2023-03-23   \n",
       "\n",
       "  arrival_time departure_aircode departure_airport arrival_aicode  \\\n",
       "0        23:00               BRU          Brussels            AGP   \n",
       "1        22:25               BRU          Brussels            AGP   \n",
       "2        13:10               BRU          Brussels            AGP   \n",
       "3        23:00               BRU          Brussels            AGP   \n",
       "4        22:25               BRU          Brussels            AGP   \n",
       "\n",
       "  arrival_airport flight_duration flight_number  available_seats   price  \\\n",
       "0          Malaga           02:50       FR 2923                0  154.09   \n",
       "1          Malaga           02:50       FR 2923                0  154.09   \n",
       "2          Malaga           02:50       FR 2923                1  244.13   \n",
       "3          Malaga           02:50       FR 2923                5  139.76   \n",
       "4          Malaga           02:50       FR 2923                3  168.99   \n",
       "\n",
       "                                          flight_key  \n",
       "0  FR~2923~ ~~BRU~03/14/2023 20:10~AGP~03/14/2023...  \n",
       "1  FR~2923~ ~~BRU~03/16/2023 19:35~AGP~03/16/2023...  \n",
       "2  FR~2923~ ~~BRU~03/17/2023 10:20~AGP~03/17/2023...  \n",
       "3  FR~2923~ ~~BRU~03/21/2023 20:10~AGP~03/21/2023...  \n",
       "4  FR~2923~ ~~BRU~03/23/2023 19:35~AGP~03/23/2023...  "
      ]
     },
     "execution_count": 7,
     "metadata": {},
     "output_type": "execute_result"
    }
   ],
   "source": [
    "flights = pd.read_csv(\"csv_bestanden/Ryanair_BRU_AGP.csv\", delimiter=\",\")\n",
    "flights.head()"
   ]
  },
  {
   "attachments": {},
   "cell_type": "markdown",
   "metadata": {},
   "source": [
    "### Aantal vluchten van Brussel-Zaventem naar Malaga in April"
   ]
  },
  {
   "cell_type": "code",
   "execution_count": 24,
   "metadata": {},
   "outputs": [
    {
     "data": {
      "text/plain": [
       "13"
      ]
     },
     "execution_count": 24,
     "metadata": {},
     "output_type": "execute_result"
    }
   ],
   "source": [
    "flights_bru_agp = pd.read_csv(\"csv_bestanden/Ryanair_BRU_AGP.csv\", delimiter=\",\")\n",
    "flights_bru_agp_april = flights_bru_agp.query(\"'2023-05-01' > departure_date >= '2023-04-01'\")\n",
    "flights_bru_agp_april[\"flight_key\"].count()"
   ]
  },
  {
   "attachments": {},
   "cell_type": "markdown",
   "metadata": {},
   "source": [
    "### Gemiddelde prijs van vluchten van Brussel-Zaventem naar Palma in Mei"
   ]
  },
  {
   "cell_type": "code",
   "execution_count": 23,
   "metadata": {},
   "outputs": [
    {
     "data": {
      "text/plain": [
       "100.28571428571429"
      ]
     },
     "execution_count": 23,
     "metadata": {},
     "output_type": "execute_result"
    }
   ],
   "source": [
    "flights_bru_pmi = pd.read_csv(\"csv_bestanden/Ryanair_BRU_PMI.csv\", delimiter=\",\")\n",
    "flights_bru_pmi_mei = flights_bru_pmi.query(\"'2023-06-01' > departure_date >= '2023-05-01'\")\n",
    "flights_bru_pmi_mei[\"price\"].mean()"
   ]
  },
  {
   "attachments": {},
   "cell_type": "markdown",
   "metadata": {},
   "source": [
    "### Totaal aantal beschikbare plaatsen van vluchten van Brussel-Zaventem naar Malaga in Juni"
   ]
  },
  {
   "cell_type": "code",
   "execution_count": 25,
   "metadata": {},
   "outputs": [
    {
     "data": {
      "text/plain": [
       "(12, 0)"
      ]
     },
     "execution_count": 25,
     "metadata": {},
     "output_type": "execute_result"
    }
   ],
   "source": [
    "flights_bru_agp_juni = flights_bru_agp.query(\"'2023-07-01' > departure_date >= '2023-06-01'\")\n",
    "\n",
    "# extraSeats wilt zeggen dat er nog meer dan 10 plaatsen beschikbaar zijn\n",
    "extraSeats = 0\n",
    "\n",
    "if flights_bru_agp_juni['available_seats'].count() > -1:\n",
    "    seats = flights_bru_agp_juni['available_seats'].count()\n",
    "else: extraSeats +=1\n",
    "\n",
    "seats, extraSeats"
   ]
  },
  {
   "attachments": {},
   "cell_type": "markdown",
   "metadata": {},
   "source": [
    "### Aantal vluchten van Brussel-Zaventem naar Tenerife van 01/09 tem 14/09"
   ]
  },
  {
   "attachments": {},
   "cell_type": "markdown",
   "metadata": {},
   "source": [
    "geen plaatsen beschikbaar, dit is geen vluchtroute"
   ]
  },
  {
   "attachments": {},
   "cell_type": "markdown",
   "metadata": {},
   "source": [
    "### Aantal vluchten van Charleroi naar Alicante in Juni"
   ]
  },
  {
   "cell_type": "code",
   "execution_count": 30,
   "metadata": {},
   "outputs": [
    {
     "data": {
      "text/plain": [
       "60"
      ]
     },
     "execution_count": 30,
     "metadata": {},
     "output_type": "execute_result"
    }
   ],
   "source": [
    "flights_crl_alc = pd.read_csv(\"csv_bestanden/Ryanair_CRL_ALC.csv\", delimiter=\",\")\n",
    "flights_crl_alc_juni = flights_crl_alc.query(\"'2023-07-01' > departure_date >= '2023-06-01'\")\n",
    "flights_crl_alc_juni[\"flight_key\"].count()"
   ]
  },
  {
   "attachments": {},
   "cell_type": "markdown",
   "metadata": {},
   "source": [
    " ### Aantal vluchten van Charleroi naar Ibiza van 15/08 tem 27/08"
   ]
  },
  {
   "cell_type": "code",
   "execution_count": 46,
   "metadata": {},
   "outputs": [
    {
     "data": {
      "text/plain": [
       "8"
      ]
     },
     "execution_count": 46,
     "metadata": {},
     "output_type": "execute_result"
    }
   ],
   "source": [
    "flights_crl_ibz = pd.read_csv(\"csv_bestanden/Ryanair_CRL_IBZ.csv\", delimiter=\",\")\n",
    "flights_crl_ibz_152708 = flights_crl_ibz.query(\"'2023-08-28' > departure_date >= '2023-08-15'\")\n",
    "flights_crl_ibz_152708[\"flight_key\"].count()"
   ]
  },
  {
   "attachments": {},
   "cell_type": "markdown",
   "metadata": {},
   "source": [
    "### Vertrekuur van vlucht van Charleroi naar Malaga op 8 april"
   ]
  },
  {
   "cell_type": "code",
   "execution_count": 50,
   "metadata": {},
   "outputs": [
    {
     "data": {
      "text/plain": [
       "'13:35'"
      ]
     },
     "execution_count": 50,
     "metadata": {},
     "output_type": "execute_result"
    }
   ],
   "source": [
    "flights_crl_agp = pd.read_csv(\"csv_bestanden/Ryanair_CRL_AGP.csv\", delimiter=\",\")\n",
    "flights_crl_agp_8apr = flights_crl_agp.query(\"departure_date == '2023-04-08'\")\n",
    "flights_crl_agp_8apr.iloc[0][\"departure_time\"]"
   ]
  },
  {
   "attachments": {},
   "cell_type": "markdown",
   "metadata": {},
   "source": [
    "### Aankomstuur van vlucht van Charleroi naar Palma op 19 april"
   ]
  },
  {
   "cell_type": "code",
   "execution_count": 51,
   "metadata": {},
   "outputs": [
    {
     "data": {
      "text/plain": [
       "'09:05'"
      ]
     },
     "execution_count": 51,
     "metadata": {},
     "output_type": "execute_result"
    }
   ],
   "source": [
    "flights_crl_pmi = pd.read_csv(\"csv_bestanden/Ryanair_CRL_PMI.csv\", delimiter=\",\")\n",
    "flights_crl_pmi_19apr = flights_crl_pmi.query(\"departure_date == '2023-04-19'\")\n",
    "flights_crl_pmi_19apr.iloc[0][\"arrival_time\"]"
   ]
  },
  {
   "attachments": {},
   "cell_type": "markdown",
   "metadata": {},
   "source": [
    "### Gemiddelde prijs van vluchten van Charleroi naar Tenerife op 15 mei"
   ]
  },
  {
   "cell_type": "code",
   "execution_count": 52,
   "metadata": {},
   "outputs": [
    {
     "data": {
      "text/plain": [
       "nan"
      ]
     },
     "execution_count": 52,
     "metadata": {},
     "output_type": "execute_result"
    }
   ],
   "source": [
    "flights_crl_tfs = pd.read_csv(\"csv_bestanden/Ryanair_CRL_TFS.csv\", delimiter=\",\")\n",
    "flights_crl_tfs_15mei = flights_crl_tfs.query(\"departure_date == '2023-05-15'\")\n",
    "flights_crl_tfs_15mei[\"price\"].mean()"
   ]
  },
  {
   "attachments": {},
   "cell_type": "markdown",
   "metadata": {},
   "source": [
    "### Aantal beschikbare plaatsen van vluchten van Charleroi naar Napels op 19 april"
   ]
  },
  {
   "cell_type": "code",
   "execution_count": 53,
   "metadata": {},
   "outputs": [
    {
     "data": {
      "text/plain": [
       "-1"
      ]
     },
     "execution_count": 53,
     "metadata": {},
     "output_type": "execute_result"
    }
   ],
   "source": [
    "flights_crl_nap = pd.read_csv(\"csv_bestanden/Ryanair_CRL_NAP.csv\", delimiter=\",\")\n",
    "flights_crl_nap_19apr = flights_crl_nap.query(\"departure_date == '2023-04-19'\")\n",
    "flights_crl_nap_19apr.iloc[0][\"available_seats\"]"
   ]
  },
  {
   "attachments": {},
   "cell_type": "markdown",
   "metadata": {},
   "source": [
    "### Aantal tussenstops van vluchten van Charleroi naar Palermo op 26 mei"
   ]
  },
  {
   "attachments": {},
   "cell_type": "markdown",
   "metadata": {},
   "source": [
    "geen tussenstops"
   ]
  },
  {
   "attachments": {},
   "cell_type": "markdown",
   "metadata": {},
   "source": [
    "### Gemiddelde prijs van vluchten van Charleroi naar Brindisi van 15/09 tot 30/10"
   ]
  },
  {
   "cell_type": "code",
   "execution_count": 54,
   "metadata": {},
   "outputs": [
    {
     "data": {
      "text/plain": [
       "91.04299999999999"
      ]
     },
     "execution_count": 54,
     "metadata": {},
     "output_type": "execute_result"
    }
   ],
   "source": [
    "flights_crl_bds = pd.read_csv(\"csv_bestanden/Ryanair_CRL_BDS.csv\", delimiter=\",\")\n",
    "flights_crl_bds_1509_3010 = flights_crl_bds.query(\"'2023-10-30' > departure_date >= '2023-09-15'\")\n",
    "flights_crl_bds_1509_3010[\"price\"].mean()"
   ]
  }
 ],
 "metadata": {
  "kernelspec": {
   "display_name": "Python 3",
   "language": "python",
   "name": "python3"
  },
  "language_info": {
   "codemirror_mode": {
    "name": "ipython",
    "version": 3
   },
   "file_extension": ".py",
   "mimetype": "text/x-python",
   "name": "python",
   "nbconvert_exporter": "python",
   "pygments_lexer": "ipython3",
   "version": "3.10.7"
  },
  "orig_nbformat": 4
 },
 "nbformat": 4,
 "nbformat_minor": 2
}
